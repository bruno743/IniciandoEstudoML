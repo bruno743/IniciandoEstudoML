{
 "cells": [
  {
   "cell_type": "markdown",
   "id": "e89f997d",
   "metadata": {},
   "source": [
    "# Familiarizando-se com o bagging"
   ]
  },
  {
   "cell_type": "code",
   "execution_count": null,
   "id": "d61e4de2",
   "metadata": {},
   "outputs": [],
   "source": [
    "import numpy as np\n",
    "\n",
    "from sklearn.datasets import make_classification\n",
    "from sklearn.model_selection import cross_val_score\n",
    "from sklearn.model_selection import RepeatedStratifiedKFold\n",
    "from sklearn.ensemble import BaggingClassifier\n",
    "from matplotlib import pyplot\n",
    "\n",
    "%matplotlib inline"
   ]
  },
  {
   "cell_type": "code",
   "execution_count": null,
   "id": "22ef568a",
   "metadata": {},
   "outputs": [],
   "source": [
    "X, y = make_classification(n_samples=1000, n_features=20, n_informative=15, n_redundant=5, random_state=5)"
   ]
  },
  {
   "cell_type": "markdown",
   "id": "0bd66fdf",
   "metadata": {},
   "source": [
    "### Testando bagging variando número de árvores"
   ]
  },
  {
   "cell_type": "code",
   "execution_count": 12,
   "id": "2d2562b7",
   "metadata": {},
   "outputs": [
    {
     "name": "stdout",
     "output_type": "stream",
     "text": [
      ">10 0.858 (0.041)\n",
      ">50 0.879 (0.033)\n",
      ">100 0.885 (0.038)\n",
      ">500 0.883 (0.037)\n"
     ]
    },
    {
     "data": {
      "image/png": "[encoded data removed]",
      "text/plain": [
       "<Figure size 432x288 with 1 Axes>"
      ]
     },
     "metadata": {
      "needs_background": "light"
     },
     "output_type": "display_data"
    }
   ],
   "source": [
    "models = dict()\n",
    "n_trees = [10, 50, 100, 500]\n",
    "for n in n_trees:\n",
    "    models[str(n)] = BaggingClassifier(n_estimators=n)\n",
    "    \n",
    "def apply(model, X, y):\n",
    "    cv = RepeatedStratifiedKFold(n_splits=10, n_repeats=3, random_state=1)\n",
    "    scores = cross_val_score(model, X, y, scoring='accuracy', cv=cv, n_jobs=-1)\n",
    "    return scores\n",
    "\n",
    "def show(models, X, y):\n",
    "    results, labels = list(), list()\n",
    "    for name, model in models.items():\n",
    "        scores = apply(model, X, y)\n",
    "        results.append(scores)\n",
    "        labels.append(name)\n",
    "        print('>%s %.3f (%.3f)' % (name, np.mean(scores), np.std(scores)))\n",
    "\n",
    "    pyplot.boxplot(results, labels=labels, showmeans=True)\n",
    "    \n",
    "show(models, X, y)"
   ]
  },
  {
   "cell_type": "markdown",
   "id": "9b603cad",
   "metadata": {},
   "source": [
    "### Testando bagging variando o tamanho da amostra"
   ]
  },
  {
   "cell_type": "code",
   "execution_count": 15,
   "id": "e8bd20ff",
   "metadata": {},
   "outputs": [
    {
     "name": "stdout",
     "output_type": "stream",
     "text": [
      ">0.1 0.806 (0.037)\n",
      ">0.2 0.819 (0.045)\n",
      ">0.3 0.849 (0.031)\n",
      ">0.4 0.856 (0.033)\n",
      ">0.5 0.856 (0.033)\n",
      ">0.6 0.854 (0.040)\n",
      ">0.7 0.854 (0.035)\n",
      ">0.8 0.855 (0.049)\n",
      ">0.9 0.856 (0.036)\n",
      ">1.0 0.870 (0.039)\n"
     ]
    },
    {
     "data": {
      "image/png": "[encoded data removed]",
      "text/plain": [
       "<Figure size 432x288 with 1 Axes>"
      ]
     },
     "metadata": {
      "needs_background": "light"
     },
     "output_type": "display_data"
    }
   ],
   "source": [
    "models = dict()\n",
    "for i in np.arange(0.1, 1.1, 0.1):\n",
    "    key = '%.1f' % i\n",
    "    models[key] = BaggingClassifier(max_samples=i)\n",
    "    \n",
    "show(models, X, y)"
   ]
  },
  {
   "cell_type": "code",
   "execution_count": null,
   "id": "03b9e06f",
   "metadata": {},
   "outputs": [],
   "source": []
  }
 ],
 "metadata": {
  "kernelspec": {
   "display_name": "Python 3 (ipykernel)",
   "language": "python",
   "name": "python3"
  },
  "language_info": {
   "codemirror_mode": {
    "name": "ipython",
    "version": 3
   },
   "file_extension": ".py",
   "mimetype": "text/x-python",
   "name": "python",
   "nbconvert_exporter": "python",
   "pygments_lexer": "ipython3",
   "version": "3.8.6"
  }
 },
 "nbformat": 4,
 "nbformat_minor": 5
}
