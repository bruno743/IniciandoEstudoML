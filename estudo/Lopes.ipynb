{
 "cells": [
  {
   "cell_type": "markdown",
   "id": "14d2111a",
   "metadata": {},
   "source": [
    "# Aplicaçãp prática do modelo de rotulação de Lopes(2014)"
   ]
  },
  {
   "cell_type": "code",
   "execution_count": 1,
   "id": "22f15ce3",
   "metadata": {},
   "outputs": [],
   "source": [
    "import pandas as pd\n",
    "import numpy as np"
   ]
  },
  {
   "cell_type": "markdown",
   "id": "5b169970",
   "metadata": {},
   "source": [
    "## Seleção de parâmetros"
   ]
  },
  {
   "cell_type": "code",
   "execution_count": 5,
   "id": "5aca70eb",
   "metadata": {},
   "outputs": [],
   "source": [
    "variacao = 8.5\n",
    "faixa_valores = 3\n",
    "per_trein = 25\n",
    "folds = 10"
   ]
  },
  {
   "cell_type": "code",
   "execution_count": 3,
   "id": "41f18061",
   "metadata": {},
   "outputs": [],
   "source": [
    "grupo = \"sementes.csv\""
   ]
  },
  {
   "cell_type": "code",
   "execution_count": 3,
   "id": "779a73f1",
   "metadata": {},
   "outputs": [],
   "source": [
    "grupo = \"iris.csv\""
   ]
  },
  {
   "cell_type": "code",
   "execution_count": 2,
   "id": "08f0bc04",
   "metadata": {},
   "outputs": [],
   "source": [
    "grupo = \"vidros.csv\""
   ]
  },
  {
   "cell_type": "code",
   "execution_count": 72,
   "id": "4176ea5b",
   "metadata": {},
   "outputs": [],
   "source": [
    "grupo = \"wine.csv\""
   ]
  },
  {
   "cell_type": "code",
   "execution_count": 74,
   "id": "59027b77",
   "metadata": {},
   "outputs": [],
   "source": [
    "grupo = \"mnist64.csv\""
   ]
  },
  {
   "cell_type": "code",
   "execution_count": 3,
   "id": "17fa8cdf",
   "metadata": {},
   "outputs": [],
   "source": [
    "tipo_discretizacao = 'EWD'"
   ]
  },
  {
   "cell_type": "code",
   "execution_count": 76,
   "id": "811a66bc",
   "metadata": {},
   "outputs": [],
   "source": [
    "tipo_discretizacao = 'EFD'"
   ]
  },
  {
   "cell_type": "code",
   "execution_count": 4,
   "id": "f7a1834f",
   "metadata": {},
   "outputs": [],
   "source": [
    "alg_super = 'PMC'"
   ]
  },
  {
   "cell_type": "code",
   "execution_count": 78,
   "id": "57a79504",
   "metadata": {},
   "outputs": [],
   "source": [
    "alg_super = 'TREE'"
   ]
  },
  {
   "cell_type": "code",
   "execution_count": 6,
   "id": "ffeec3b8",
   "metadata": {},
   "outputs": [
    {
     "name": "stdout",
     "output_type": "stream",
     "text": [
      "Parametros: bd=vidros.csv, disc=EWD, algoritmo=PMC\n",
      "variacao=8.5, faixa=3, % de treino=25, treinos e testes=10\n"
     ]
    }
   ],
   "source": [
    "print(f'Parametros: bd={grupo}, disc={tipo_discretizacao}, algoritmo={alg_super}')\n",
    "print(f'variacao={variacao}, faixa={faixa_valores}, % de treino={per_trein}, treinos e testes={folds}')"
   ]
  },
  {
   "cell_type": "markdown",
   "id": "97d66cd5",
   "metadata": {},
   "source": [
    "## Tratando os dados"
   ]
  },
  {
   "cell_type": "code",
   "execution_count": 7,
   "id": "091b9e2f",
   "metadata": {},
   "outputs": [],
   "source": [
    "base = pd.read_csv(grupo)"
   ]
  },
  {
   "cell_type": "code",
   "execution_count": 18,
   "id": "22a3cf73",
   "metadata": {},
   "outputs": [
    {
     "data": {
      "text/html": [
       "<div>\n",
       "<style scoped>\n",
       "    .dataframe tbody tr th:only-of-type {\n",
       "        vertical-align: middle;\n",
       "    }\n",
       "\n",
       "    .dataframe tbody tr th {\n",
       "        vertical-align: top;\n",
       "    }\n",
       "\n",
       "    .dataframe thead th {\n",
       "        text-align: right;\n",
       "    }\n",
       "</style>\n",
       "<table border=\"1\" class=\"dataframe\">\n",
       "  <thead>\n",
       "    <tr style=\"text-align: right;\">\n",
       "      <th></th>\n",
       "      <th>RI</th>\n",
       "      <th>Na</th>\n",
       "      <th>Mg</th>\n",
       "      <th>Al</th>\n",
       "      <th>Si</th>\n",
       "      <th>K</th>\n",
       "      <th>Ca</th>\n",
       "      <th>Ba</th>\n",
       "      <th>Fe</th>\n",
       "      <th>classe</th>\n",
       "    </tr>\n",
       "  </thead>\n",
       "  <tbody>\n",
       "    <tr>\n",
       "      <th>0</th>\n",
       "      <td>152.101</td>\n",
       "      <td>13.64</td>\n",
       "      <td>4.49</td>\n",
       "      <td>1.10</td>\n",
       "      <td>71.78</td>\n",
       "      <td>0.06</td>\n",
       "      <td>8.75</td>\n",
       "      <td>0.0</td>\n",
       "      <td>0.0</td>\n",
       "      <td>1</td>\n",
       "    </tr>\n",
       "    <tr>\n",
       "      <th>1</th>\n",
       "      <td>151.761</td>\n",
       "      <td>13.89</td>\n",
       "      <td>3.60</td>\n",
       "      <td>1.36</td>\n",
       "      <td>72.73</td>\n",
       "      <td>0.48</td>\n",
       "      <td>7.83</td>\n",
       "      <td>0.0</td>\n",
       "      <td>0.0</td>\n",
       "      <td>1</td>\n",
       "    </tr>\n",
       "    <tr>\n",
       "      <th>2</th>\n",
       "      <td>151.618</td>\n",
       "      <td>13.53</td>\n",
       "      <td>3.55</td>\n",
       "      <td>1.54</td>\n",
       "      <td>72.99</td>\n",
       "      <td>0.39</td>\n",
       "      <td>7.78</td>\n",
       "      <td>0.0</td>\n",
       "      <td>0.0</td>\n",
       "      <td>1</td>\n",
       "    </tr>\n",
       "    <tr>\n",
       "      <th>3</th>\n",
       "      <td>151.766</td>\n",
       "      <td>13.21</td>\n",
       "      <td>3.69</td>\n",
       "      <td>1.29</td>\n",
       "      <td>72.61</td>\n",
       "      <td>0.57</td>\n",
       "      <td>8.22</td>\n",
       "      <td>0.0</td>\n",
       "      <td>0.0</td>\n",
       "      <td>1</td>\n",
       "    </tr>\n",
       "    <tr>\n",
       "      <th>4</th>\n",
       "      <td>151.742</td>\n",
       "      <td>13.27</td>\n",
       "      <td>3.62</td>\n",
       "      <td>1.24</td>\n",
       "      <td>73.08</td>\n",
       "      <td>0.55</td>\n",
       "      <td>8.07</td>\n",
       "      <td>0.0</td>\n",
       "      <td>0.0</td>\n",
       "      <td>1</td>\n",
       "    </tr>\n",
       "  </tbody>\n",
       "</table>\n",
       "</div>"
      ],
      "text/plain": [
       "        RI     Na    Mg    Al     Si     K    Ca   Ba   Fe  classe\n",
       "0  152.101  13.64  4.49  1.10  71.78  0.06  8.75  0.0  0.0       1\n",
       "1  151.761  13.89  3.60  1.36  72.73  0.48  7.83  0.0  0.0       1\n",
       "2  151.618  13.53  3.55  1.54  72.99  0.39  7.78  0.0  0.0       1\n",
       "3  151.766  13.21  3.69  1.29  72.61  0.57  8.22  0.0  0.0       1\n",
       "4  151.742  13.27  3.62  1.24  73.08  0.55  8.07  0.0  0.0       1"
      ]
     },
     "execution_count": 18,
     "metadata": {},
     "output_type": "execute_result"
    }
   ],
   "source": [
    "base.head()"
   ]
  },
  {
   "cell_type": "code",
   "execution_count": 12,
   "id": "0da119ab",
   "metadata": {},
   "outputs": [
    {
     "name": "stdout",
     "output_type": "stream",
     "text": [
      "atributo escolhido: classe\n",
      "numero de clusters: 6\n"
     ]
    }
   ],
   "source": [
    "attr_classe = base.columns[-1]\n",
    "print(f'atributo escolhido: {attr_classe}')\n",
    "\n",
    "frames = []\n",
    "for index, grupo in base.groupby(attr_classe):\n",
    "    frames.append(grupo)\n",
    "print(f'numero de clusters: {len(frames)}')"
   ]
  },
  {
   "cell_type": "code",
   "execution_count": 17,
   "id": "ef79717d",
   "metadata": {},
   "outputs": [
    {
     "data": {
      "text/plain": [
       "(70, 10)"
      ]
     },
     "execution_count": 17,
     "metadata": {},
     "output_type": "execute_result"
    }
   ],
   "source": [
    "frames[0].shape"
   ]
  },
  {
   "cell_type": "code",
   "execution_count": 35,
   "id": "20f6c9d0",
   "metadata": {},
   "outputs": [
    {
     "data": {
      "text/html": [
       "<div>\n",
       "<style scoped>\n",
       "    .dataframe tbody tr th:only-of-type {\n",
       "        vertical-align: middle;\n",
       "    }\n",
       "\n",
       "    .dataframe tbody tr th {\n",
       "        vertical-align: top;\n",
       "    }\n",
       "\n",
       "    .dataframe thead th {\n",
       "        text-align: right;\n",
       "    }\n",
       "</style>\n",
       "<table border=\"1\" class=\"dataframe\">\n",
       "  <thead>\n",
       "    <tr style=\"text-align: right;\">\n",
       "      <th></th>\n",
       "      <th>RI</th>\n",
       "      <th>Na</th>\n",
       "      <th>Mg</th>\n",
       "      <th>Al</th>\n",
       "      <th>Si</th>\n",
       "      <th>K</th>\n",
       "      <th>Ca</th>\n",
       "      <th>Ba</th>\n",
       "      <th>Fe</th>\n",
       "      <th>classe</th>\n",
       "    </tr>\n",
       "  </thead>\n",
       "  <tbody>\n",
       "    <tr>\n",
       "      <th>0</th>\n",
       "      <td>152.101</td>\n",
       "      <td>13.64</td>\n",
       "      <td>4.49</td>\n",
       "      <td>1.10</td>\n",
       "      <td>71.78</td>\n",
       "      <td>0.06</td>\n",
       "      <td>8.75</td>\n",
       "      <td>0.0</td>\n",
       "      <td>0.0</td>\n",
       "      <td>1</td>\n",
       "    </tr>\n",
       "    <tr>\n",
       "      <th>1</th>\n",
       "      <td>151.761</td>\n",
       "      <td>13.89</td>\n",
       "      <td>3.60</td>\n",
       "      <td>1.36</td>\n",
       "      <td>72.73</td>\n",
       "      <td>0.48</td>\n",
       "      <td>7.83</td>\n",
       "      <td>0.0</td>\n",
       "      <td>0.0</td>\n",
       "      <td>1</td>\n",
       "    </tr>\n",
       "    <tr>\n",
       "      <th>2</th>\n",
       "      <td>151.618</td>\n",
       "      <td>13.53</td>\n",
       "      <td>3.55</td>\n",
       "      <td>1.54</td>\n",
       "      <td>72.99</td>\n",
       "      <td>0.39</td>\n",
       "      <td>7.78</td>\n",
       "      <td>0.0</td>\n",
       "      <td>0.0</td>\n",
       "      <td>1</td>\n",
       "    </tr>\n",
       "    <tr>\n",
       "      <th>3</th>\n",
       "      <td>151.766</td>\n",
       "      <td>13.21</td>\n",
       "      <td>3.69</td>\n",
       "      <td>1.29</td>\n",
       "      <td>72.61</td>\n",
       "      <td>0.57</td>\n",
       "      <td>8.22</td>\n",
       "      <td>0.0</td>\n",
       "      <td>0.0</td>\n",
       "      <td>1</td>\n",
       "    </tr>\n",
       "    <tr>\n",
       "      <th>4</th>\n",
       "      <td>151.742</td>\n",
       "      <td>13.27</td>\n",
       "      <td>3.62</td>\n",
       "      <td>1.24</td>\n",
       "      <td>73.08</td>\n",
       "      <td>0.55</td>\n",
       "      <td>8.07</td>\n",
       "      <td>0.0</td>\n",
       "      <td>0.0</td>\n",
       "      <td>1</td>\n",
       "    </tr>\n",
       "  </tbody>\n",
       "</table>\n",
       "</div>"
      ],
      "text/plain": [
       "        RI     Na    Mg    Al     Si     K    Ca   Ba   Fe  classe\n",
       "0  152.101  13.64  4.49  1.10  71.78  0.06  8.75  0.0  0.0       1\n",
       "1  151.761  13.89  3.60  1.36  72.73  0.48  7.83  0.0  0.0       1\n",
       "2  151.618  13.53  3.55  1.54  72.99  0.39  7.78  0.0  0.0       1\n",
       "3  151.766  13.21  3.69  1.29  72.61  0.57  8.22  0.0  0.0       1\n",
       "4  151.742  13.27  3.62  1.24  73.08  0.55  8.07  0.0  0.0       1"
      ]
     },
     "execution_count": 35,
     "metadata": {},
     "output_type": "execute_result"
    }
   ],
   "source": [
    "frames[0].head()"
   ]
  },
  {
   "cell_type": "markdown",
   "id": "dea9b9f2",
   "metadata": {},
   "source": [
    "### Discretização"
   ]
  },
  {
   "cell_type": "code",
   "execution_count": 29,
   "id": "102b10dd",
   "metadata": {},
   "outputs": [],
   "source": [
    "import discretizacao as dsc\n",
    "\n",
    "discData = dsc.discretizador(base, faixa_valores, tipo_discretizacao, attr_classe)\n",
    "base_discretizada = discData.ddb\n",
    "infor = discData.infor"
   ]
  },
  {
   "cell_type": "code",
   "execution_count": 30,
   "id": "ac820691",
   "metadata": {},
   "outputs": [
    {
     "name": "stdout",
     "output_type": "stream",
     "text": [
      "   RI  Na  Mg  Al  Si  K  Ca  Ba  Fe  classe\n",
      "0   1   1   2   0   1  0   0   0   0       1\n",
      "1   0   1   2   1   1  0   0   0   0       1\n",
      "2   0   1   2   1   1  0   0   0   0       1\n",
      "3   0   1   2   0   1  0   0   0   0       1\n",
      "4   0   1   2   0   1  0   0   0   0       1\n",
      "5   0   0   2   1   1  0   0   0   1       1\n",
      "6   0   1   2   0   1  0   0   0   0       1\n",
      "7   0   1   2   0   1  0   0   0   0       1\n",
      "8   1   1   2   1   1  0   0   0   0       1\n",
      "9   0   1   2   1   1  0   0   0   0       1\n"
     ]
    }
   ],
   "source": [
    "print(base_discretizada[:10])"
   ]
  },
  {
   "cell_type": "code",
   "execution_count": 31,
   "id": "c959b004",
   "metadata": {},
   "outputs": [
    {
     "name": "stdout",
     "output_type": "stream",
     "text": [
      "('RI', array([151.11272749, 151.87433879, 152.63367208, 153.39300537]))\n",
      "('Na', array([10.72334954, 12.94666608, 15.16333262, 17.37999916]))\n",
      "('Mg', array([-0.00449   ,  1.49666659,  2.99333318,  4.48999977]))\n",
      "('Al', array([0.28678999, 1.35999999, 2.43      , 3.5       ]))\n",
      "('Si', array([69.80439755, 71.67666626, 73.54333496, 75.41000366]))\n",
      "('K', array([-0.00621   ,  2.07000001,  4.14000003,  6.21000004]))\n",
      "('Ca', array([ 5.41923983,  9.01666673, 12.60333363, 16.19000053]))\n",
      "('Ba', array([-0.00315   ,  1.05000003,  2.10000006,  3.1500001 ]))\n",
      "('Fe', array([-0.00051   ,  0.17      ,  0.33999999,  0.50999999]))\n"
     ]
    }
   ],
   "source": [
    "for info in infor:\n",
    "    print(info)"
   ]
  },
  {
   "cell_type": "code",
   "execution_count": 32,
   "id": "7e2e31dd",
   "metadata": {},
   "outputs": [
    {
     "name": "stdout",
     "output_type": "stream",
     "text": [
      "numero de clusters: 6\n"
     ]
    }
   ],
   "source": [
    "frames_disc = []\n",
    "for index, grupo in base_discretizada.groupby(attr_classe):\n",
    "    frames_disc.append(grupo)\n",
    "print(f'numero de clusters: {len(frames_disc)}')"
   ]
  },
  {
   "cell_type": "code",
   "execution_count": 34,
   "id": "4f93111e",
   "metadata": {},
   "outputs": [
    {
     "data": {
      "text/html": [
       "<div>\n",
       "<style scoped>\n",
       "    .dataframe tbody tr th:only-of-type {\n",
       "        vertical-align: middle;\n",
       "    }\n",
       "\n",
       "    .dataframe tbody tr th {\n",
       "        vertical-align: top;\n",
       "    }\n",
       "\n",
       "    .dataframe thead th {\n",
       "        text-align: right;\n",
       "    }\n",
       "</style>\n",
       "<table border=\"1\" class=\"dataframe\">\n",
       "  <thead>\n",
       "    <tr style=\"text-align: right;\">\n",
       "      <th></th>\n",
       "      <th>RI</th>\n",
       "      <th>Na</th>\n",
       "      <th>Mg</th>\n",
       "      <th>Al</th>\n",
       "      <th>Si</th>\n",
       "      <th>K</th>\n",
       "      <th>Ca</th>\n",
       "      <th>Ba</th>\n",
       "      <th>Fe</th>\n",
       "      <th>classe</th>\n",
       "    </tr>\n",
       "  </thead>\n",
       "  <tbody>\n",
       "    <tr>\n",
       "      <th>0</th>\n",
       "      <td>1</td>\n",
       "      <td>1</td>\n",
       "      <td>2</td>\n",
       "      <td>0</td>\n",
       "      <td>1</td>\n",
       "      <td>0</td>\n",
       "      <td>0</td>\n",
       "      <td>0</td>\n",
       "      <td>0</td>\n",
       "      <td>1</td>\n",
       "    </tr>\n",
       "    <tr>\n",
       "      <th>1</th>\n",
       "      <td>0</td>\n",
       "      <td>1</td>\n",
       "      <td>2</td>\n",
       "      <td>1</td>\n",
       "      <td>1</td>\n",
       "      <td>0</td>\n",
       "      <td>0</td>\n",
       "      <td>0</td>\n",
       "      <td>0</td>\n",
       "      <td>1</td>\n",
       "    </tr>\n",
       "    <tr>\n",
       "      <th>2</th>\n",
       "      <td>0</td>\n",
       "      <td>1</td>\n",
       "      <td>2</td>\n",
       "      <td>1</td>\n",
       "      <td>1</td>\n",
       "      <td>0</td>\n",
       "      <td>0</td>\n",
       "      <td>0</td>\n",
       "      <td>0</td>\n",
       "      <td>1</td>\n",
       "    </tr>\n",
       "    <tr>\n",
       "      <th>3</th>\n",
       "      <td>0</td>\n",
       "      <td>1</td>\n",
       "      <td>2</td>\n",
       "      <td>0</td>\n",
       "      <td>1</td>\n",
       "      <td>0</td>\n",
       "      <td>0</td>\n",
       "      <td>0</td>\n",
       "      <td>0</td>\n",
       "      <td>1</td>\n",
       "    </tr>\n",
       "    <tr>\n",
       "      <th>4</th>\n",
       "      <td>0</td>\n",
       "      <td>1</td>\n",
       "      <td>2</td>\n",
       "      <td>0</td>\n",
       "      <td>1</td>\n",
       "      <td>0</td>\n",
       "      <td>0</td>\n",
       "      <td>0</td>\n",
       "      <td>0</td>\n",
       "      <td>1</td>\n",
       "    </tr>\n",
       "  </tbody>\n",
       "</table>\n",
       "</div>"
      ],
      "text/plain": [
       "   RI  Na  Mg  Al  Si  K  Ca  Ba  Fe  classe\n",
       "0   1   1   2   0   1  0   0   0   0       1\n",
       "1   0   1   2   1   1  0   0   0   0       1\n",
       "2   0   1   2   1   1  0   0   0   0       1\n",
       "3   0   1   2   0   1  0   0   0   0       1\n",
       "4   0   1   2   0   1  0   0   0   0       1"
      ]
     },
     "execution_count": 34,
     "metadata": {},
     "output_type": "execute_result"
    }
   ],
   "source": [
    "frames_disc[0].head()"
   ]
  },
  {
   "cell_type": "code",
   "execution_count": null,
   "id": "6b70b0d9",
   "metadata": {},
   "outputs": [],
   "source": []
  }
 ],
 "metadata": {
  "kernelspec": {
   "display_name": "Python 3 (ipykernel)",
   "language": "python",
   "name": "python3"
  },
  "language_info": {
   "codemirror_mode": {
    "name": "ipython",
    "version": 3
   },
   "file_extension": ".py",
   "mimetype": "text/x-python",
   "name": "python",
   "nbconvert_exporter": "python",
   "pygments_lexer": "ipython3",
   "version": "3.8.6"
  }
 },
 "nbformat": 4,
 "nbformat_minor": 5
}
